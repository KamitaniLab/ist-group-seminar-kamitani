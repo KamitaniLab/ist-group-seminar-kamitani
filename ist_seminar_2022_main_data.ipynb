{
 "cells": [
  {
   "cell_type": "markdown",
   "metadata": {
    "id": "9beE9qrdloS3"
   },
   "source": [
    "# IST-01 (Kamitani lab) group seminar 2022"
   ]
  },
  {
   "cell_type": "markdown",
   "metadata": {
    "id": "TFjuoLnmlcbB"
   },
   "source": [
    "## Setup"
   ]
  },
  {
   "cell_type": "code",
   "execution_count": null,
   "metadata": {
    "id": "hGEZZf27lPtb"
   },
   "outputs": [],
   "source": [
    "!pip install numpy\n",
    "!pip install scikit-learn\n",
    "!pip install matplotlib\n",
    "!pip install seaborn\n",
    "!pip install hdf5storage\n",
    "!pip install bdpy"
   ]
  },
  {
   "cell_type": "code",
   "execution_count": null,
   "metadata": {
    "id": "lTri0MZUwRAR"
   },
   "outputs": [],
   "source": [
    "import os\n",
    "\n",
    "import bdpy\n",
    "import bdpy.ml\n",
    "from bdpy.preproc import select_top\n",
    "import matplotlib.pyplot as plt\n",
    "import numpy as np\n",
    "from scipy import stats\n",
    "import seaborn as sns\n",
    "import sklearn.svm\n",
    "import sklearn.metrics"
   ]
  },
  {
   "cell_type": "markdown",
   "metadata": {
    "id": "COsyPfVLlyXI"
   },
   "source": [
    "## Data downloading"
   ]
  },
  {
   "cell_type": "code",
   "execution_count": null,
   "metadata": {
    "id": "L8AOaR8cl2oL"
   },
   "outputs": [],
   "source": [
    "# Enter the download URL\n",
    "url = 'https://figshare.com/ndownloader/files/36371325?private_link=1564c1be774b05d5cf24'\n",
    "\n",
    "# Select file name\n",
    "#fn = 'sub-01_MusicGenre_prep.h5'\n",
    "fn = 'sub-02_ImageText_prep.h5'\n",
    "\n",
    "# Run the following command\n",
    "!wget \"$url\" -O $fn\n",
    "!ls"
   ]
  },
  {
   "cell_type": "markdown",
   "metadata": {
    "id": "PVtzrmSUl4Or"
   },
   "source": [
    "## Load data"
   ]
  },
  {
   "cell_type": "code",
   "execution_count": null,
   "metadata": {
    "id": "kg47SVARwK7K"
   },
   "outputs": [],
   "source": [
    "bdata = bdpy.BData(fn)\n",
    "bdata.dataset.shape"
   ]
  },
  {
   "cell_type": "markdown",
   "metadata": {
    "id": "Ch27deuypgtC"
   },
   "source": [
    "## Data \n",
    "\n",
    "- Target labels\n",
    "- Run numbers\n",
    "- Responses of the subject"
   ]
  },
  {
   "cell_type": "code",
   "execution_count": null,
   "metadata": {
    "id": "m8xUDSamwj2-"
   },
   "outputs": [],
   "source": [
    "labels = bdata.get_labels('stimulus_name')\n",
    "#print(labels)"
   ]
  },
  {
   "cell_type": "code",
   "execution_count": null,
   "metadata": {
    "id": "O2xf_uf5psgz"
   },
   "outputs": [],
   "source": [
    "labels_index = bdata.select('stimulus_name')\n",
    "#print(labels_index)"
   ]
  },
  {
   "cell_type": "markdown",
   "metadata": {
    "id": "a6hoKJiP0ab4"
   },
   "source": [
    "Stimulus list:\n",
    "\n",
    "- [Music genre](https://figshare.com/ndownloader/files/36371424?private_link=1564c1be774b05d5cf24)\n",
    "- [Image-text](https://figshare.com/ndownloader/files/36371421?private_link=1564c1be774b05d5cf24)"
   ]
  },
  {
   "cell_type": "code",
   "execution_count": null,
   "metadata": {
    "id": "BUzwLGVrwm6V"
   },
   "outputs": [],
   "source": [
    "runs = bdata.select('Run')\n",
    "print(runs)"
   ]
  },
  {
   "cell_type": "code",
   "execution_count": null,
   "metadata": {
    "id": "FBww45IqwxXG"
   },
   "outputs": [],
   "source": [
    "response = bdata.select('response')\n",
    "print(response)"
   ]
  },
  {
   "cell_type": "markdown",
   "metadata": {
    "id": "Pf-u2_v-l6uk"
   },
   "source": [
    "## ROI\n",
    "\n",
    "The distributed dataset contains ROIs created based on HCP 180 parcellation (HCP_MMP1.0 [Glasser et al., 2016](https://www.nature.com/articles/nature18933)). The HCP 180 parcellation defines 180 brain regions (per hemisphere) based on multi-modal MRI data (anatomy, task fMRI, functional connectivity, ...), covering the whole cortex.\n",
    "\n",
    "![](https://media.springernature.com/full/springer-static/image/art%3A10.1038%2Fnature18933/MediaObjects/41586_2016_Article_BFnature18933_Fig3_HTML.jpg?as=webp)\n",
    "\n",
    "From <https://www.nature.com/articles/nature18933/figures/3>\n",
    "\n",
    "- [List of 180 parcells](https://gist.github.com/ShuntaroAoki/e47e901adfc36f167d4aeb15ed1ac66a)\n",
    "\n",
    "| Index | Region | Abbreviation | ROIs |\n",
    "| --- | --- | --- | --- |\n",
    "| 1 | Primary visual cortex | PVC | V1 |\n",
    "| 2 | Early visual cortex | EVC | V2, V3, V4 |\n",
    "| 3 | Dorsal stream visual cortex | DSVC | V3A, V7, V3B, V6, V6A, IPS1 |\n",
    "| 4 | Ventral stream visual cortex | VSVC | V8, VVC, VMV1, VMV2, VMV3, PIT, FFC |\n",
    "| 5 | MT+ complex and neighboring visual areas | MTcVA | V3CD, LO1, LO2, LO3, MT, MST, V4t, FST, PH |\n",
    "| 6 | Somatosensory and motor cortex | SMC | 4, 3a, 3b, 1, 2 |\n",
    "| 7 | Paracentral lobular and mid cingulate cortex | PCL_MCC | 5L, 5m, 5mv, 24dd, 24dv, 6mp, 6ma, SCEF |\n",
    "| 8 | Premotor cortex | PMC | 6a, 6d, FEF, PEF, 55b, 6v, 6r |\n",
    "| 9 | Posterior opercular cortex | POC | 43, FOP1, OP4, OP2-3, OP1, PFcm |\n",
    "| 10 | Early auditory cortex | EAC | A1, MBelt, LBelt, PBelt, RI |\n",
    "| 11 | Auditory association cortex | AAC | A4, A5, STSdp, STSda, STSvp, STSva, TA2, STGa |\n",
    "| 12 | Insular and frontal opercular cortex | IFOC | 52, PI, Ig, PoI1, PoI2, FOP2, Pir, AAIC, MI, FOP3, FOP4, FOP5, AVI |\n",
    "| 13 | Medial temporal cortex | MTC | H, PreS, EC, PeEc, PHA1, PHA2, PHA3 |\n",
    "| 14 | Lateral temporal cortex | LTC | TGd, TGv, TF, TE2a, TE2p, TE1a, TE1m, TE1p, PHT |\n",
    "| 15 | Temporo-parieto-occipital junction | TPOJ | TPOJ2, TPOJ3, TPOJ1, STV, PSL |\n",
    "| 16 | Superior parietal cortex | SPC | MIP, LIPv, VIP, LIPd, AIP, 7PC, 7Am, 7AL, 7Pm, 7PL |\n",
    "| 17 | Inferior parietal cortex | IPC | PGp, IP0, IP1, IP2, PF, PFt, PFop, PFm, PGi, PGs |\n",
    "| 18 | Posterior cingulate cortex | PCC | DVT, ProS, POS2, POS1, RSC, 7m, PCV, v23ab, d23ab, 31pv, 31pd, 31a, 23c, 23d |\n",
    "| 19 | Anterior cingulate and medial prefrontal  cortex | ACC_mPFC | 33pr, a24pr, p24pr, p24, a24, p32pr, a32pr, d32, p32, s32, 8BM, 9m, 10r, 10v, 25 |\n",
    "| 20 | Orbital and polar frontal cortex | OPFC | OFC, pOFC, 13l, 11l, 47s, 47m, a47r, 10pp, a10p, p10p, 10d |\n",
    "| 21 | Inferior frontal cortex | IFC | 44, 45, 47l, IFJp, IFJa, IFSp, IFSa, p47r |\n",
    "| 22 | Dorsolateral prefrontal cortex | DLPFC | SFL, s6-8, i6-8, 8BL, 8Ad, 8Av, 8C, 9p, 9a, 9-46d, a9-46v, p9-46v, 46 |"
   ]
  },
  {
   "cell_type": "code",
   "execution_count": null,
   "metadata": {
    "id": "WMAr69Xsxo_l"
   },
   "outputs": [],
   "source": []
  },
  {
   "cell_type": "code",
   "execution_count": null,
   "metadata": {
    "id": "Q-hJtm_zzigq"
   },
   "outputs": [],
   "source": [
    "brain_data = bdata.select('hcp180_V1')\n",
    "brain_data.shape"
   ]
  },
  {
   "cell_type": "markdown",
   "metadata": {
    "id": "TZYst92Wxp7Y"
   },
   "source": []
  },
  {
   "cell_type": "code",
   "execution_count": null,
   "metadata": {
    "id": "edobQUVIpgZz"
   },
   "outputs": [],
   "source": [
    "brain_data = bdata.select('hcp180_reg_EAC')\n",
    "brain_data.shape"
   ]
  }
 ],
 "metadata": {
  "colab": {
   "name": "kusemi2022_main.ipynb",
   "provenance": []
  },
  "kernelspec": {
   "display_name": "Python 3",
   "language": "python",
   "name": "python3"
  },
  "language_info": {
   "codemirror_mode": {
    "name": "ipython",
    "version": 3
   },
   "file_extension": ".py",
   "mimetype": "text/x-python",
   "name": "python",
   "nbconvert_exporter": "python",
   "pygments_lexer": "ipython3",
   "version": "3.8.8"
  }
 },
 "nbformat": 4,
 "nbformat_minor": 4
}
