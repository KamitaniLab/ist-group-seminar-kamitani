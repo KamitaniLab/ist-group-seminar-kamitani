{
 "cells": [
  {
   "cell_type": "markdown",
   "metadata": {},
   "source": [
    "# MRI Images\n",
    "\n",
    "This notebook provides brief instruction describing how to read MRI images with Python and exercise materials."
   ]
  },
  {
   "cell_type": "markdown",
   "metadata": {},
   "source": [
    "## Setup"
   ]
  },
  {
   "cell_type": "code",
   "execution_count": null,
   "metadata": {},
   "outputs": [],
   "source": [
    "!pip install numpy matplotlib\n",
    "!pip install nibabel"
   ]
  },
  {
   "cell_type": "code",
   "execution_count": null,
   "metadata": {},
   "outputs": [],
   "source": [
    "!mkdir data"
   ]
  },
  {
   "cell_type": "code",
   "execution_count": null,
   "metadata": {},
   "outputs": [],
   "source": [
    "!curl https://s3-eu-west-1.amazonaws.com/pfigshare-u-files/27995283/sub01_sesanatomy_T1w.nii.gz -o data/sub-01_ses-anatomy_T1w.nii.gz\n",
    "!curl https://s3-eu-west-1.amazonaws.com/pfigshare-u-files/27995286/sub01_sesperceptionNaturalImageTest01_taskperception_run01_bold.nii.gz -o data/sub-01_ses-perceptionNaturalImageTest01_taskperception_run01_bold.nii.gz"
   ]
  },
  {
   "cell_type": "code",
   "execution_count": null,
   "metadata": {},
   "outputs": [],
   "source": [
    "!ls data"
   ]
  },
  {
   "cell_type": "markdown",
   "metadata": {},
   "source": [
    "## Introduction\n",
    "\n",
    "In neuroscience community, MRI images are often saved, processed, and shared in **NIfTI-1** format.\n",
    "The file extension is `.nii` (uncompressed) or `.nii.gz` (gzipped).\n",
    "A single NIfTI-1 file can contains either 3-D (spatial) or 4-D (spatial + temporal) MRI image.\n",
    "\n",
    "More information:\n",
    "\n",
    "- <https://nifti.nimh.nih.gov/nifti-1/>"
   ]
  },
  {
   "cell_type": "markdown",
   "metadata": {},
   "source": [
    "## Visualization of NIfTI images\n",
    "\n",
    "- Use **nibabel** to handle NIfTI images.\n",
    "  - <https://nipy.org/nibabel/>\n",
    "- `nibabel.load` load an NIfTI image as a nibabel image instance.\n",
    "- To obtain the image as a Numpy array, run `np.asanyarray(<img>.dataobje)`."
   ]
  },
  {
   "cell_type": "code",
   "execution_count": null,
   "metadata": {},
   "outputs": [],
   "source": [
    "import os\n",
    "\n",
    "import nibabel\n",
    "import numpy as np\n",
    "import matplotlib.pyplot as plt"
   ]
  },
  {
   "cell_type": "markdown",
   "metadata": {},
   "source": [
    "### Anatomical MRI image (3-D NIfTI image)\n",
    "\n",
    "First, we are going to see an anatomical MRI image."
   ]
  },
  {
   "cell_type": "code",
   "execution_count": null,
   "metadata": {},
   "outputs": [],
   "source": [
    "# Load an anatomical MRI image (3-D NIfTI image)\n",
    "img_t1 = nibabel.load('data/sub-01_ses-anatomy_T1w.nii.gz')\n",
    "\n",
    "# Extract the image as an array\n",
    "data_t1 = np.asanyarray(img_t1.dataobj)\n",
    "data_t1.shape"
   ]
  },
  {
   "cell_type": "markdown",
   "metadata": {},
   "source": [
    "The loaded image should have shape of (256, 256, 208).\n",
    "\n",
    "You can check the spatial direction of each dimension of the image array by the following code."
   ]
  },
  {
   "cell_type": "code",
   "execution_count": null,
   "metadata": {},
   "outputs": [],
   "source": [
    "nibabel.aff2axcodes(img_t1.affine)"
   ]
  },
  {
   "cell_type": "markdown",
   "metadata": {},
   "source": [
    "N-th letter represnets the incremental direction of N-th dimention of the image array.\n",
    "\n",
    "- **A**/**P**: Anterior/Posterior\n",
    "- **S**/**I**: Superior/Inferior\n",
    "- **L**/**R**: Left/Right\n",
    "\n",
    "See also: [Anatomical terms of location - Wikipedia](https://en.wikipedia.org/wiki/Anatomical_terms_of_location)\n",
    "\n",
    "Thus, the dimension-direction correspondense of the loaded image is:\n",
    "\n",
    "- 1st dim: anteror to posteior\n",
    "- 2nd dim: superior to inferior\n",
    "- 3rd dim: right to left"
   ]
  },
  {
   "cell_type": "markdown",
   "metadata": {},
   "source": [
    "**Terminology on brain anatomy**\n",
    "\n",
    "- Anterir vs posterior\n",
    "- Superior vs inferior\n",
    "- Dorsal vs ventral\n",
    "\n",
    "<img src=\"http://2.bp.blogspot.com/-XPtNSJi3aPY/VAlNvjPL_4I/AAAAAAAAEII/8H0ltumAE8U/s1600/brain%2Btilt%2Bhead.png\" width=800px>\n",
    "\n",
    "Image from \"Neuroscience, 4th ed.\" Sinauer, 2007"
   ]
  },
  {
   "cell_type": "markdown",
   "metadata": {},
   "source": [
    "You can check the size of each voxel (each element of an MRI image) by the following code (unit: mm)."
   ]
  },
  {
   "cell_type": "code",
   "execution_count": null,
   "metadata": {},
   "outputs": [],
   "source": [
    "img_t1.header.get_zooms()"
   ]
  },
  {
   "cell_type": "markdown",
   "metadata": {},
   "source": [
    "Now, let's visualize a sagital slice of the loaded MRI image by display the slice at the center of the left/right axis."
   ]
  },
  {
   "cell_type": "markdown",
   "metadata": {},
   "source": [
    "**Sagittal, coronal, and axial slices**\n",
    "\n",
    "<img src=\"https://users.fmrib.ox.ac.uk/~stuart/thesis/chapter_3/image3_5.gif\" width=800px>\n",
    "\n",
    "Image from https://users.fmrib.ox.ac.uk/~stuart/thesis/chapter_3/section3_2.html"
   ]
  },
  {
   "cell_type": "code",
   "execution_count": null,
   "metadata": {},
   "outputs": [],
   "source": [
    "# Visualize the middle sagittal plane\n",
    "plt.imshow(data_t1[:, :, data_t1.shape[2] // 2].T, cmap='gray')"
   ]
  },
  {
   "cell_type": "markdown",
   "metadata": {},
   "source": [
    "---\n",
    "**Exercise 1**\n",
    "\n",
    "Visualize axial and coronal planes of the loaded image."
   ]
  },
  {
   "cell_type": "code",
   "execution_count": null,
   "metadata": {},
   "outputs": [],
   "source": [
    "# Axial slice\n",
    "plt.imshow(<Complete the code>, cmap='gray')"
   ]
  },
  {
   "cell_type": "code",
   "execution_count": null,
   "metadata": {},
   "outputs": [],
   "source": [
    "# Coronal slice\n",
    "plt.imshow(<Complete the code>, cmap='gray')"
   ]
  },
  {
   "cell_type": "markdown",
   "metadata": {},
   "source": [
    "---"
   ]
  },
  {
   "cell_type": "markdown",
   "metadata": {},
   "source": [
    "### Functional MRI image (4-D NIfTI image)\n",
    "\n",
    "Next, let's take a look at a 4-D MRI image."
   ]
  },
  {
   "cell_type": "code",
   "execution_count": null,
   "metadata": {},
   "outputs": [],
   "source": [
    "# Load functional MRI images (4-D NIfTI image)\n",
    "img_fmri = nibabel.load('data/sub-01_ses-perceptionNaturalImageTest01_task-perception_run-01_bold.nii.gz')\n",
    "\n",
    "# Extract the image as an array\n",
    "data_fmri = np.asanyarray(img_fmri.dataobj)\n",
    "data_fmri.shape"
   ]
  },
  {
   "cell_type": "markdown",
   "metadata": {},
   "source": [
    "You can see that the loaded image is 4-dimensional.\n",
    "The first three dimensions are spatial and the 4th is temporal.\n",
    "So, the image contains whole brain fMRI data from 239 timepoints.\n",
    "The fMRI image at each timepoint is called *volume*.\n",
    "\n",
    "Let's check the dimension-direction correspondense and voxel size."
   ]
  },
  {
   "cell_type": "code",
   "execution_count": null,
   "metadata": {},
   "outputs": [],
   "source": [
    "nibabel.aff2axcodes(img_fmri.affine)"
   ]
  },
  {
   "cell_type": "markdown",
   "metadata": {},
   "source": [
    "Thus, the dimension-direction correspondense of the loaded image is:\n",
    "\n",
    "- 1st dim: right to left\n",
    "- 2nd dim: anterior to posterior\n",
    "- 3rd dim: inferior to sperior"
   ]
  },
  {
   "cell_type": "code",
   "execution_count": null,
   "metadata": {},
   "outputs": [],
   "source": [
    "img_fmri.header.get_zooms()"
   ]
  },
  {
   "cell_type": "markdown",
   "metadata": {},
   "source": [
    "This indicates that the voxel size is $2 \\times 2 \\times 2$ mm and each volume was collected at each 2 sec (*).\n",
    "\n",
    "\\* Strictly speaking, it takes 2 seconds to collect the data of one volume.\n",
    "\n",
    "The image size (i.e., the number of voxels) are much less than the anatomical image we investigated above because the spatil resolution of fMRI images are lower then anatomical images (i.e., the voxel size of the fMRI image is much larger than the anatomical image)."
   ]
  },
  {
   "cell_type": "markdown",
   "metadata": {},
   "source": [
    "Let's visualize a sagital slice of the first volume in the loaded MRI image."
   ]
  },
  {
   "cell_type": "code",
   "execution_count": null,
   "metadata": {},
   "outputs": [],
   "source": [
    "# Sagittal plane\n",
    "plt.imshow(data_fmri[data_fmri.shape[0] // 2, :, :, 0].T, cmap='gray', origin='lower')"
   ]
  },
  {
   "cell_type": "markdown",
   "metadata": {},
   "source": [
    "---\n",
    "**Exercise 2**\n",
    "\n",
    "Visualize axial and coronal slices of the first volume in the loaded fMRI image."
   ]
  },
  {
   "cell_type": "code",
   "execution_count": null,
   "metadata": {},
   "outputs": [],
   "source": [
    "# Axial slice\n",
    "plt.imshow(<Complete the code>, cmap='gray')"
   ]
  },
  {
   "cell_type": "code",
   "execution_count": null,
   "metadata": {},
   "outputs": [],
   "source": [
    "# Coronal slice\n",
    "plt.imshow(<Complete the code>, cmap='gray')"
   ]
  },
  {
   "cell_type": "markdown",
   "metadata": {},
   "source": [
    "---"
   ]
  },
  {
   "cell_type": "markdown",
   "metadata": {},
   "source": [
    "In 4D fMRI, each voxel is a time series of BOLD signals.\n",
    "Let's select one voxel and display its time series."
   ]
  },
  {
   "cell_type": "code",
   "execution_count": null,
   "metadata": {},
   "outputs": [],
   "source": [
    "# Time course of a voxel\n",
    "\n",
    "voxel_index = [33, 78, 42]\n",
    "\n",
    "plt.imshow(data_fmri[voxel_index[0], :, :, 0].T, cmap='gray', origin='lower')\n",
    "plt.plot(voxel_index[1], voxel_index[2], 'r+', markersize=12)"
   ]
  },
  {
   "cell_type": "code",
   "execution_count": null,
   "metadata": {},
   "outputs": [],
   "source": [
    "resp = data_fmri[voxel_index[0], voxel_index[1], voxel_index[2], :]\n",
    "plt.plot(resp)"
   ]
  },
  {
   "cell_type": "markdown",
   "metadata": {},
   "source": [
    "---\n",
    "**Exercise 3**\n",
    "\n",
    "Calculate temporal mean of the fMRI responses of each voxel, and plot the temporal mean as a brain image (in either sagittal, coronal, or axial plane)."
   ]
  },
  {
   "cell_type": "code",
   "execution_count": null,
   "metadata": {},
   "outputs": [],
   "source": [
    "# Complete the code\n",
    "\n",
    "data_fmri_mean = \n",
    "plt.imshow()"
   ]
  },
  {
   "cell_type": "markdown",
   "metadata": {},
   "source": [
    "---"
   ]
  }
 ],
 "metadata": {
  "kernelspec": {
   "display_name": "Python 3",
   "language": "python",
   "name": "python3"
  },
  "language_info": {
   "codemirror_mode": {
    "name": "ipython",
    "version": 3
   },
   "file_extension": ".py",
   "mimetype": "text/x-python",
   "name": "python",
   "nbconvert_exporter": "python",
   "pygments_lexer": "ipython3",
   "version": "3.8.5"
  }
 },
 "nbformat": 4,
 "nbformat_minor": 4
}
