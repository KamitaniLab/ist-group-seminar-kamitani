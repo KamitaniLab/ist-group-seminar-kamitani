{
 "cells": [
  {
   "cell_type": "code",
   "execution_count": 1,
   "metadata": {
    "colab": {
     "base_uri": "https://localhost:8080/",
     "height": 34
    },
    "colab_type": "code",
    "executionInfo": {
     "elapsed": 3133,
     "status": "ok",
     "timestamp": 1592915537422,
     "user": {
      "displayName": "青木俊太郎",
      "photoUrl": "https://lh3.googleusercontent.com/a-/AOh14GhkRFuDxBKkR1McAs48YEybZMjb-0eLPBTIdTVr8A=s64",
      "userId": "06260911395252775504"
     },
     "user_tz": -540
    },
    "id": "0EJwoWVAIYGD",
    "outputId": "ef76d092-8016-4fff-f21f-03468ed770b1"
   },
   "outputs": [
    {
     "name": "stdout",
     "output_type": "stream",
     "text": [
      "Python 3.8.5\n"
     ]
    }
   ],
   "source": [
    "!python --version"
   ]
  },
  {
   "cell_type": "markdown",
   "metadata": {},
   "source": [
    "## Packages setup"
   ]
  },
  {
   "cell_type": "code",
   "execution_count": null,
   "metadata": {},
   "outputs": [],
   "source": [
    "!pip install numpy scipy scikit-learn matplotlib\n",
    "!pip install h5py hdf5storage pyyaml"
   ]
  },
  {
   "cell_type": "code",
   "execution_count": 2,
   "metadata": {
    "colab": {
     "base_uri": "https://localhost:8080/",
     "height": 34
    },
    "colab_type": "code",
    "executionInfo": {
     "elapsed": 16313,
     "status": "ok",
     "timestamp": 1592915550631,
     "user": {
      "displayName": "青木俊太郎",
      "photoUrl": "https://lh3.googleusercontent.com/a-/AOh14GhkRFuDxBKkR1McAs48YEybZMjb-0eLPBTIdTVr8A=s64",
      "userId": "06260911395252775504"
     },
     "user_tz": -540
    },
    "id": "oy1-EfAxIqq-",
    "outputId": "be0af165-6b4b-482e-bbb7-de795edc655a"
   },
   "outputs": [
    {
     "data": {
      "text/plain": [
       "'1.20.3'"
      ]
     },
     "execution_count": 2,
     "metadata": {},
     "output_type": "execute_result"
    }
   ],
   "source": [
    "import numpy\n",
    "numpy.__version__"
   ]
  },
  {
   "cell_type": "code",
   "execution_count": 3,
   "metadata": {
    "colab": {
     "base_uri": "https://localhost:8080/",
     "height": 34
    },
    "colab_type": "code",
    "executionInfo": {
     "elapsed": 16304,
     "status": "ok",
     "timestamp": 1592915550633,
     "user": {
      "displayName": "青木俊太郎",
      "photoUrl": "https://lh3.googleusercontent.com/a-/AOh14GhkRFuDxBKkR1McAs48YEybZMjb-0eLPBTIdTVr8A=s64",
      "userId": "06260911395252775504"
     },
     "user_tz": -540
    },
    "id": "lJ5R6MBRJI6o",
    "outputId": "dbbceff7-7518-4bde-f27a-0a0221371d56"
   },
   "outputs": [
    {
     "data": {
      "text/plain": [
       "'1.6.3'"
      ]
     },
     "execution_count": 3,
     "metadata": {},
     "output_type": "execute_result"
    }
   ],
   "source": [
    "import scipy\n",
    "scipy.__version__"
   ]
  },
  {
   "cell_type": "code",
   "execution_count": 4,
   "metadata": {},
   "outputs": [
    {
     "data": {
      "text/plain": [
       "'0.24.2'"
      ]
     },
     "execution_count": 4,
     "metadata": {},
     "output_type": "execute_result"
    }
   ],
   "source": [
    "import sklearn\n",
    "sklearn.__version__"
   ]
  },
  {
   "cell_type": "code",
   "execution_count": 5,
   "metadata": {},
   "outputs": [
    {
     "data": {
      "text/plain": [
       "'3.2.1'"
      ]
     },
     "execution_count": 5,
     "metadata": {},
     "output_type": "execute_result"
    }
   ],
   "source": [
    "import nibabel\n",
    "nibabel.__version__"
   ]
  },
  {
   "cell_type": "code",
   "execution_count": 6,
   "metadata": {
    "colab": {},
    "colab_type": "code",
    "executionInfo": {
     "elapsed": 17301,
     "status": "ok",
     "timestamp": 1592915551638,
     "user": {
      "displayName": "青木俊太郎",
      "photoUrl": "https://lh3.googleusercontent.com/a-/AOh14GhkRFuDxBKkR1McAs48YEybZMjb-0eLPBTIdTVr8A=s64",
      "userId": "06260911395252775504"
     },
     "user_tz": -540
    },
    "id": "PO-2K3SHIxGX"
   },
   "outputs": [
    {
     "data": {
      "text/plain": [
       "'0.5.0'"
      ]
     },
     "execution_count": 6,
     "metadata": {},
     "output_type": "execute_result"
    }
   ],
   "source": [
    "import nipy\n",
    "from nipy.modalities.fmri.glm import GeneralLinearModel\n",
    "from nipy.modalities.fmri.design_matrix import make_dmtx\n",
    "nipy.__version__"
   ]
  },
  {
   "cell_type": "code",
   "execution_count": 7,
   "metadata": {
    "colab": {},
    "colab_type": "code",
    "executionInfo": {
     "elapsed": 17296,
     "status": "ok",
     "timestamp": 1592915551639,
     "user": {
      "displayName": "青木俊太郎",
      "photoUrl": "https://lh3.googleusercontent.com/a-/AOh14GhkRFuDxBKkR1McAs48YEybZMjb-0eLPBTIdTVr8A=s64",
      "userId": "06260911395252775504"
     },
     "user_tz": -540
    },
    "id": "uU24TIk7KYap"
   },
   "outputs": [],
   "source": [
    "import bdpy"
   ]
  }
 ],
 "metadata": {
  "colab": {
   "authorship_tag": "ABX9TyOQf4sf3ikQaNHb/zZ5lhOG",
   "collapsed_sections": [],
   "name": "env_check.ipynb",
   "provenance": []
  },
  "kernelspec": {
   "display_name": "Python 3",
   "language": "python",
   "name": "python3"
  },
  "language_info": {
   "codemirror_mode": {
    "name": "ipython",
    "version": 3
   },
   "file_extension": ".py",
   "mimetype": "text/x-python",
   "name": "python",
   "nbconvert_exporter": "python",
   "pygments_lexer": "ipython3",
   "version": "3.8.5"
  }
 },
 "nbformat": 4,
 "nbformat_minor": 4
}
