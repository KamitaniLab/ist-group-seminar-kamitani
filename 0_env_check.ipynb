{
 "cells": [
  {
   "cell_type": "code",
   "execution_count": null,
   "metadata": {
    "colab": {
     "base_uri": "https://localhost:8080/",
     "height": 34
    },
    "colab_type": "code",
    "executionInfo": {
     "elapsed": 3133,
     "status": "ok",
     "timestamp": 1592915537422,
     "user": {
      "displayName": "青木俊太郎",
      "photoUrl": "https://lh3.googleusercontent.com/a-/AOh14GhkRFuDxBKkR1McAs48YEybZMjb-0eLPBTIdTVr8A=s64",
      "userId": "06260911395252775504"
     },
     "user_tz": -540
    },
    "id": "0EJwoWVAIYGD",
    "outputId": "ef76d092-8016-4fff-f21f-03468ed770b1"
   },
   "outputs": [],
   "source": [
    "!python --version"
   ]
  },
  {
   "cell_type": "markdown",
   "metadata": {},
   "source": [
    "## Packages setup"
   ]
  },
  {
   "cell_type": "code",
   "execution_count": null,
   "metadata": {},
   "outputs": [],
   "source": [
    "!pip install numpy scipy scikit-learn matplotlib\n",
    "!pip install h5py hdf5storage pyyaml tqdm\n",
    "!pip install nibalbel nipy\n",
    "!pip install bdpy"
   ]
  },
  {
   "cell_type": "markdown",
   "metadata": {},
   "source": [
    "Run the following code to examine whether required packages are available."
   ]
  },
  {
   "cell_type": "code",
   "execution_count": null,
   "metadata": {
    "colab": {
     "base_uri": "https://localhost:8080/",
     "height": 34
    },
    "colab_type": "code",
    "executionInfo": {
     "elapsed": 16313,
     "status": "ok",
     "timestamp": 1592915550631,
     "user": {
      "displayName": "青木俊太郎",
      "photoUrl": "https://lh3.googleusercontent.com/a-/AOh14GhkRFuDxBKkR1McAs48YEybZMjb-0eLPBTIdTVr8A=s64",
      "userId": "06260911395252775504"
     },
     "user_tz": -540
    },
    "id": "oy1-EfAxIqq-",
    "outputId": "be0af165-6b4b-482e-bbb7-de795edc655a"
   },
   "outputs": [],
   "source": [
    "import numpy\n",
    "numpy.__version__"
   ]
  },
  {
   "cell_type": "code",
   "execution_count": null,
   "metadata": {
    "colab": {
     "base_uri": "https://localhost:8080/",
     "height": 34
    },
    "colab_type": "code",
    "executionInfo": {
     "elapsed": 16304,
     "status": "ok",
     "timestamp": 1592915550633,
     "user": {
      "displayName": "青木俊太郎",
      "photoUrl": "https://lh3.googleusercontent.com/a-/AOh14GhkRFuDxBKkR1McAs48YEybZMjb-0eLPBTIdTVr8A=s64",
      "userId": "06260911395252775504"
     },
     "user_tz": -540
    },
    "id": "lJ5R6MBRJI6o",
    "outputId": "dbbceff7-7518-4bde-f27a-0a0221371d56"
   },
   "outputs": [],
   "source": [
    "import scipy\n",
    "scipy.__version__"
   ]
  },
  {
   "cell_type": "code",
   "execution_count": null,
   "metadata": {},
   "outputs": [],
   "source": [
    "import sklearn\n",
    "sklearn.__version__"
   ]
  },
  {
   "cell_type": "code",
   "execution_count": null,
   "metadata": {},
   "outputs": [],
   "source": [
    "import nibabel\n",
    "nibabel.__version__"
   ]
  },
  {
   "cell_type": "code",
   "execution_count": null,
   "metadata": {
    "colab": {},
    "colab_type": "code",
    "executionInfo": {
     "elapsed": 17301,
     "status": "ok",
     "timestamp": 1592915551638,
     "user": {
      "displayName": "青木俊太郎",
      "photoUrl": "https://lh3.googleusercontent.com/a-/AOh14GhkRFuDxBKkR1McAs48YEybZMjb-0eLPBTIdTVr8A=s64",
      "userId": "06260911395252775504"
     },
     "user_tz": -540
    },
    "id": "PO-2K3SHIxGX"
   },
   "outputs": [],
   "source": [
    "import nipy\n",
    "from nipy.modalities.fmri.glm import GeneralLinearModel\n",
    "from nipy.modalities.fmri.design_matrix import make_dmtx\n",
    "nipy.__version__"
   ]
  },
  {
   "cell_type": "code",
   "execution_count": null,
   "metadata": {
    "colab": {},
    "colab_type": "code",
    "executionInfo": {
     "elapsed": 17296,
     "status": "ok",
     "timestamp": 1592915551639,
     "user": {
      "displayName": "青木俊太郎",
      "photoUrl": "https://lh3.googleusercontent.com/a-/AOh14GhkRFuDxBKkR1McAs48YEybZMjb-0eLPBTIdTVr8A=s64",
      "userId": "06260911395252775504"
     },
     "user_tz": -540
    },
    "id": "uU24TIk7KYap"
   },
   "outputs": [],
   "source": [
    "import bdpy"
   ]
  },
  {
   "cell_type": "markdown",
   "metadata": {},
   "source": [
    "## Data access"
   ]
  },
  {
   "cell_type": "code",
   "execution_count": null,
   "metadata": {},
   "outputs": [],
   "source": [
    "!mkdir data"
   ]
  },
  {
   "cell_type": "code",
   "execution_count": null,
   "metadata": {},
   "outputs": [],
   "source": [
    "!curl https://s3-eu-west-1.amazonaws.com/pfigshare-u-files/27995283/sub01_sesanatomy_T1w.nii.gz -o data/sub01_sesanatomy_T1w.nii.gz"
   ]
  }
 ],
 "metadata": {
  "colab": {
   "authorship_tag": "ABX9TyOQf4sf3ikQaNHb/zZ5lhOG",
   "collapsed_sections": [],
   "name": "env_check.ipynb",
   "provenance": []
  },
  "kernelspec": {
   "display_name": "Python 3",
   "language": "python",
   "name": "python3"
  },
  "language_info": {
   "codemirror_mode": {
    "name": "ipython",
    "version": 3
   },
   "file_extension": ".py",
   "mimetype": "text/x-python",
   "name": "python",
   "nbconvert_exporter": "python",
   "pygments_lexer": "ipython3",
   "version": "3.8.5"
  }
 },
 "nbformat": 4,
 "nbformat_minor": 4
}
